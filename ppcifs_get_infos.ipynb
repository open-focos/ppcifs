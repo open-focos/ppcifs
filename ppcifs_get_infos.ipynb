{
 "cells": [
  {
   "cell_type": "code",
   "execution_count": null,
   "metadata": {},
   "outputs": [],
   "source": [
    "# Polos da Operação Corta Fogo\n",
    "url = 'http://datageo.ambiente.sp.gov.br/geoserver/datageo/POLOS_CORTA_FOGO_2020_PTO/wfs?version=1.0.0&request=GetFeature&outputFormat=SHAPE-ZIP&typeName=POLOS_CORTA_FOGO_2020_PTO'"
   ]
  },
  {
   "cell_type": "code",
   "execution_count": null,
   "metadata": {},
   "outputs": [],
   "source": []
  },
  {
   "cell_type": "code",
   "execution_count": null,
   "metadata": {},
   "outputs": [],
   "source": []
  },
  {
   "cell_type": "code",
   "execution_count": null,
   "metadata": {},
   "outputs": [],
   "source": []
  }
 ],
 "metadata": {
  "kernelspec": {
   "display_name": "Python [conda env:pablocarreira-py38] *",
   "language": "python",
   "name": "conda-env-pablocarreira-py38-py"
  },
  "language_info": {
   "codemirror_mode": {
    "name": "ipython",
    "version": 3
   },
   "file_extension": ".py",
   "mimetype": "text/x-python",
   "name": "python",
   "nbconvert_exporter": "python",
   "pygments_lexer": "ipython3",
   "version": "3.8.10"
  }
 },
 "nbformat": 4,
 "nbformat_minor": 4
}
